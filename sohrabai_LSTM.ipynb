{
  "cells": [
    {
      "cell_type": "code",
      "execution_count": 1,
      "metadata": {
        "id": "rurdL_4Plz6z"
      },
      "outputs": [
        {
          "name": "stderr",
          "output_type": "stream",
          "text": [
            "2024-10-04 18:21:55.124548: E external/local_xla/xla/stream_executor/cuda/cuda_fft.cc:485] Unable to register cuFFT factory: Attempting to register factory for plugin cuFFT when one has already been registered\n",
            "2024-10-04 18:21:55.269604: E external/local_xla/xla/stream_executor/cuda/cuda_dnn.cc:8454] Unable to register cuDNN factory: Attempting to register factory for plugin cuDNN when one has already been registered\n",
            "2024-10-04 18:21:55.311625: E external/local_xla/xla/stream_executor/cuda/cuda_blas.cc:1452] Unable to register cuBLAS factory: Attempting to register factory for plugin cuBLAS when one has already been registered\n",
            "2024-10-04 18:21:55.521355: I tensorflow/core/platform/cpu_feature_guard.cc:210] This TensorFlow binary is optimized to use available CPU instructions in performance-critical operations.\n",
            "To enable the following instructions: AVX2 FMA, in other operations, rebuild TensorFlow with the appropriate compiler flags.\n",
            "2024-10-04 18:21:58.742665: W tensorflow/compiler/tf2tensorrt/utils/py_utils.cc:38] TF-TRT Warning: Could not find TensorRT\n"
          ]
        }
      ],
      "source": [
        "import matplotlib.pyplot as plt\n",
        "import numpy as np\n",
        "import tensorflow as tf\n",
        "from tensorflow.keras.preprocessing.text import Tokenizer\n",
        "from tensorflow.keras.preprocessing.sequence import pad_sequences\n",
        "from tensorflow.keras.layers import Embedding, LSTM, Dropout, Dense\n",
        "from tensorflow.keras.models import Sequential\n",
        "from scipy.special import softmax"
      ]
    },
    {
      "cell_type": "code",
      "execution_count": 2,
      "metadata": {
        "id": "h72-ANjanRtE"
      },
      "outputs": [],
      "source": [
        "raw_data = \"\"\n",
        "with open('data.txt') as f:\n",
        "  raw_data = f.read()"
      ]
    },
    {
      "cell_type": "code",
      "execution_count": 3,
      "metadata": {
        "id": "7kfHskREnftA"
      },
      "outputs": [],
      "source": [
        "raw_data = raw_data.split('\\n')"
      ]
    },
    {
      "cell_type": "code",
      "execution_count": 14,
      "metadata": {
        "colab": {
          "base_uri": "https://localhost:8080/"
        },
        "id": "w91uEZnFq9VY",
        "outputId": "2307b9d5-70bf-47ed-877b-b13bce409a05"
      },
      "outputs": [
        {
          "name": "stdout",
          "output_type": "stream",
          "text": [
            "['کنار مشتی خاک', 'در دوردست خودم تنها نشستهام', 'نوسان خاکها شد', 'و خاکها از میان انشگتانم لغزید و فرو ریخت', 'شبیه هیچ شدهای', 'چهره ات را به سردی', 'خاک بسپار', 'اوج خودم را گم کردهام', 'میترسم', 'از لحظه بعد و از این پنجرهای که به روی احساسم گشوده شود']\n"
          ]
        }
      ],
      "source": [
        "corpus = []\n",
        "for s in raw_data:\n",
        "  s = s.strip()\n",
        "  s = s.replace(' می ', ' می')\n",
        "  s = s.replace(' ام ', 'ام ')\n",
        "  s = s.replace(' اش ', 'اش ')\n",
        "  s = s.replace(' ای ', 'ای ')\n",
        "  s = s.replace(' تر ', 'تر ')\n",
        "  s = s.replace(' ها ', 'ها ')\n",
        "  corpus.append(s)\n",
        "print(corpus[:10])"
      ]
    },
    {
      "cell_type": "code",
      "execution_count": 5,
      "metadata": {
        "id": "cnTFJCfWmL8S"
      },
      "outputs": [],
      "source": [
        "tokenizer = Tokenizer(oov_token='<OOV>', filters='!\"#$%&()*+,-./:;<=>?@[\\\\]^_`{|}~\\t')\n",
        "tokenizer.fit_on_texts(corpus)\n",
        "vocab = tokenizer.word_index"
      ]
    },
    {
      "cell_type": "code",
      "execution_count": 6,
      "metadata": {
        "colab": {
          "base_uri": "https://localhost:8080/"
        },
        "id": "TbGCH4fNpI8M",
        "outputId": "22b62f2d-ac8a-449a-94b3-ffee816d4897"
      },
      "outputs": [
        {
          "data": {
            "text/plain": [
              "3428"
            ]
          },
          "execution_count": 6,
          "metadata": {},
          "output_type": "execute_result"
        }
      ],
      "source": [
        "len(vocab)"
      ]
    },
    {
      "cell_type": "code",
      "execution_count": 13,
      "metadata": {
        "id": "dD4BI_wvpMdq"
      },
      "outputs": [],
      "source": [
        "input_seqs = []\n",
        "for line in corpus:\n",
        "  seq = tokenizer.texts_to_sequences([line])[0]\n",
        "  for i in range(1, len(seq)):\n",
        "    n_gram = seq[:i + 1]\n",
        "    input_seqs.append(n_gram)\n",
        "max_len = max([len(x) for x in input_seqs])\n",
        "padded = pad_sequences(input_seqs, maxlen=max_len, padding='pre')"
      ]
    },
    {
      "cell_type": "code",
      "execution_count": 8,
      "metadata": {
        "id": "X3GnOOaWqdS7"
      },
      "outputs": [],
      "source": [
        "xs, labels = padded[:, :-1], padded[:, -1]"
      ]
    },
    {
      "cell_type": "code",
      "execution_count": 9,
      "metadata": {
        "id": "g-Q5GhZlsBWm"
      },
      "outputs": [],
      "source": [
        "ys = tf.keras.utils.to_categorical(labels, num_classes=len(vocab))"
      ]
    },
    {
      "cell_type": "code",
      "execution_count": 10,
      "metadata": {
        "colab": {
          "base_uri": "https://localhost:8080/"
        },
        "id": "Km-mkusKsWru",
        "outputId": "aafadbad-9798-4c81-b752-c0fee20bb05d"
      },
      "outputs": [
        {
          "data": {
            "text/plain": [
              "(11673, 16)"
            ]
          },
          "execution_count": 10,
          "metadata": {},
          "output_type": "execute_result"
        }
      ],
      "source": [
        "xs.shape"
      ]
    },
    {
      "cell_type": "code",
      "execution_count": 11,
      "metadata": {
        "colab": {
          "base_uri": "https://localhost:8080/"
        },
        "id": "nbRUXKntCZIh",
        "outputId": "8a094bc3-181c-443a-c47a-9866cae4fafa"
      },
      "outputs": [
        {
          "data": {
            "text/plain": [
              "(11673, 3428)"
            ]
          },
          "execution_count": 11,
          "metadata": {},
          "output_type": "execute_result"
        }
      ],
      "source": [
        "ys.shape"
      ]
    },
    {
      "cell_type": "code",
      "execution_count": null,
      "metadata": {
        "id": "3Pk-egxduXKo"
      },
      "outputs": [],
      "source": [
        "model = Sequential()\n",
        "model.add(Embedding(len(vocab), 128))\n",
        "model.add(LSTM(64, return_sequences=True))\n",
        "model.add(LSTM(32))\n",
        "model.add(Dropout(0.01))\n",
        "model.add(Dense(len(vocab), activation='softmax'))\n",
        "optimizer = tf.keras.optimizers.Adam(learning_rate=0.01)\n",
        "model.compile(loss='categorical_crossentropy', optimizer=optimizer, metrics=['cosine_similarity', 'accuracy'])"
      ]
    },
    {
      "cell_type": "code",
      "execution_count": null,
      "metadata": {
        "id": "UaOD_--L9kAn"
      },
      "outputs": [],
      "source": [
        "checkpoint = tf.keras.callbacks.ModelCheckpoint(\"sohrab.keras\", monitor=\"loss\", save_best_only=True)"
      ]
    },
    {
      "cell_type": "code",
      "execution_count": null,
      "metadata": {
        "colab": {
          "base_uri": "https://localhost:8080/"
        },
        "id": "G-CrhTNLygMg",
        "outputId": "9d8e5bd4-7198-4586-ac11-564881169c8b"
      },
      "outputs": [
        {
          "name": "stdout",
          "output_type": "stream",
          "text": [
            "Epoch 1/150\n"
          ]
        },
        {
          "name": "stderr",
          "output_type": "stream",
          "text": [
            "2024-10-03 18:44:43.831650: I external/local_xla/xla/stream_executor/cuda/cuda_dnn.cc:531] Loaded cuDNN version 8907\n"
          ]
        },
        {
          "name": "stdout",
          "output_type": "stream",
          "text": [
            "\u001b[1m365/365\u001b[0m \u001b[32m━━━━━━━━━━━━━━━━━━━━\u001b[0m\u001b[37m\u001b[0m \u001b[1m15s\u001b[0m 16ms/step - accuracy: 0.0268 - cosine_similarity: 0.0589 - loss: 7.5715\n",
            "Epoch 2/150\n",
            "\u001b[1m365/365\u001b[0m \u001b[32m━━━━━━━━━━━━━━━━━━━━\u001b[0m\u001b[37m\u001b[0m \u001b[1m6s\u001b[0m 15ms/step - accuracy: 0.0301 - cosine_similarity: 0.0722 - loss: 6.8080\n",
            "Epoch 3/150\n",
            "\u001b[1m365/365\u001b[0m \u001b[32m━━━━━━━━━━━━━━━━━━━━\u001b[0m\u001b[37m\u001b[0m \u001b[1m5s\u001b[0m 15ms/step - accuracy: 0.0362 - cosine_similarity: 0.0761 - loss: 6.6770\n",
            "Epoch 4/150\n",
            "\u001b[1m365/365\u001b[0m \u001b[32m━━━━━━━━━━━━━━━━━━━━\u001b[0m\u001b[37m\u001b[0m \u001b[1m4s\u001b[0m 12ms/step - accuracy: 0.0388 - cosine_similarity: 0.0824 - loss: 6.4687\n",
            "Epoch 5/150\n",
            "\u001b[1m365/365\u001b[0m \u001b[32m━━━━━━━━━━━━━━━━━━━━\u001b[0m\u001b[37m\u001b[0m \u001b[1m4s\u001b[0m 10ms/step - accuracy: 0.0384 - cosine_similarity: 0.0842 - loss: 6.3486\n",
            "Epoch 6/150\n",
            "\u001b[1m365/365\u001b[0m \u001b[32m━━━━━━━━━━━━━━━━━━━━\u001b[0m\u001b[37m\u001b[0m \u001b[1m4s\u001b[0m 11ms/step - accuracy: 0.0474 - cosine_similarity: 0.0902 - loss: 6.2001\n",
            "Epoch 7/150\n",
            "\u001b[1m365/365\u001b[0m \u001b[32m━━━━━━━━━━━━━━━━━━━━\u001b[0m\u001b[37m\u001b[0m \u001b[1m4s\u001b[0m 11ms/step - accuracy: 0.0557 - cosine_similarity: 0.1014 - loss: 5.9524\n",
            "Epoch 8/150\n",
            "\u001b[1m365/365\u001b[0m \u001b[32m━━━━━━━━━━━━━━━━━━━━\u001b[0m\u001b[37m\u001b[0m \u001b[1m4s\u001b[0m 11ms/step - accuracy: 0.0598 - cosine_similarity: 0.1087 - loss: 5.7595\n",
            "Epoch 9/150\n",
            "\u001b[1m365/365\u001b[0m \u001b[32m━━━━━━━━━━━━━━━━━━━━\u001b[0m\u001b[37m\u001b[0m \u001b[1m4s\u001b[0m 11ms/step - accuracy: 0.0702 - cosine_similarity: 0.1214 - loss: 5.5251\n",
            "Epoch 10/150\n",
            "\u001b[1m365/365\u001b[0m \u001b[32m━━━━━━━━━━━━━━━━━━━━\u001b[0m\u001b[37m\u001b[0m \u001b[1m4s\u001b[0m 11ms/step - accuracy: 0.0850 - cosine_similarity: 0.1343 - loss: 5.3062\n",
            "Epoch 11/150\n",
            "\u001b[1m365/365\u001b[0m \u001b[32m━━━━━━━━━━━━━━━━━━━━\u001b[0m\u001b[37m\u001b[0m \u001b[1m4s\u001b[0m 11ms/step - accuracy: 0.0935 - cosine_similarity: 0.1472 - loss: 5.1104\n",
            "Epoch 12/150\n",
            "\u001b[1m365/365\u001b[0m \u001b[32m━━━━━━━━━━━━━━━━━━━━\u001b[0m\u001b[37m\u001b[0m \u001b[1m4s\u001b[0m 11ms/step - accuracy: 0.1064 - cosine_similarity: 0.1610 - loss: 4.9049\n",
            "Epoch 13/150\n",
            "\u001b[1m365/365\u001b[0m \u001b[32m━━━━━━━━━━━━━━━━━━━━\u001b[0m\u001b[37m\u001b[0m \u001b[1m4s\u001b[0m 11ms/step - accuracy: 0.1133 - cosine_similarity: 0.1712 - loss: 4.7581\n",
            "Epoch 14/150\n",
            "\u001b[1m365/365\u001b[0m \u001b[32m━━━━━━━━━━━━━━━━━━━━\u001b[0m\u001b[37m\u001b[0m \u001b[1m4s\u001b[0m 11ms/step - accuracy: 0.1301 - cosine_similarity: 0.1898 - loss: 4.5401\n",
            "Epoch 15/150\n",
            "\u001b[1m365/365\u001b[0m \u001b[32m━━━━━━━━━━━━━━━━━━━━\u001b[0m\u001b[37m\u001b[0m \u001b[1m4s\u001b[0m 12ms/step - accuracy: 0.1410 - cosine_similarity: 0.2048 - loss: 4.3610\n",
            "Epoch 16/150\n",
            "\u001b[1m365/365\u001b[0m \u001b[32m━━━━━━━━━━━━━━━━━━━━\u001b[0m\u001b[37m\u001b[0m \u001b[1m4s\u001b[0m 12ms/step - accuracy: 0.1593 - cosine_similarity: 0.2241 - loss: 4.1966\n",
            "Epoch 17/150\n",
            "\u001b[1m365/365\u001b[0m \u001b[32m━━━━━━━━━━━━━━━━━━━━\u001b[0m\u001b[37m\u001b[0m \u001b[1m4s\u001b[0m 12ms/step - accuracy: 0.1774 - cosine_similarity: 0.2387 - loss: 4.0807\n",
            "Epoch 18/150\n",
            "\u001b[1m365/365\u001b[0m \u001b[32m━━━━━━━━━━━━━━━━━━━━\u001b[0m\u001b[37m\u001b[0m \u001b[1m5s\u001b[0m 12ms/step - accuracy: 0.1952 - cosine_similarity: 0.2576 - loss: 3.9164\n",
            "Epoch 19/150\n",
            "\u001b[1m365/365\u001b[0m \u001b[32m━━━━━━━━━━━━━━━━━━━━\u001b[0m\u001b[37m\u001b[0m \u001b[1m4s\u001b[0m 12ms/step - accuracy: 0.2078 - cosine_similarity: 0.2711 - loss: 3.8059\n",
            "Epoch 20/150\n",
            "\u001b[1m365/365\u001b[0m \u001b[32m━━━━━━━━━━━━━━━━━━━━\u001b[0m\u001b[37m\u001b[0m \u001b[1m4s\u001b[0m 12ms/step - accuracy: 0.2329 - cosine_similarity: 0.2918 - loss: 3.6851\n",
            "Epoch 21/150\n",
            "\u001b[1m365/365\u001b[0m \u001b[32m━━━━━━━━━━━━━━━━━━━━\u001b[0m\u001b[37m\u001b[0m \u001b[1m4s\u001b[0m 12ms/step - accuracy: 0.2538 - cosine_similarity: 0.3082 - loss: 3.5603\n",
            "Epoch 22/150\n",
            "\u001b[1m365/365\u001b[0m \u001b[32m━━━━━━━━━━━━━━━━━━━━\u001b[0m\u001b[37m\u001b[0m \u001b[1m4s\u001b[0m 12ms/step - accuracy: 0.2669 - cosine_similarity: 0.3249 - loss: 3.4678\n",
            "Epoch 23/150\n",
            "\u001b[1m365/365\u001b[0m \u001b[32m━━━━━━━━━━━━━━━━━━━━\u001b[0m\u001b[37m\u001b[0m \u001b[1m5s\u001b[0m 14ms/step - accuracy: 0.2889 - cosine_similarity: 0.3419 - loss: 3.3537\n",
            "Epoch 24/150\n",
            "\u001b[1m365/365\u001b[0m \u001b[32m━━━━━━━━━━━━━━━━━━━━\u001b[0m\u001b[37m\u001b[0m \u001b[1m6s\u001b[0m 16ms/step - accuracy: 0.3018 - cosine_similarity: 0.3541 - loss: 3.2802\n",
            "Epoch 25/150\n",
            "\u001b[1m365/365\u001b[0m \u001b[32m━━━━━━━━━━━━━━━━━━━━\u001b[0m\u001b[37m\u001b[0m \u001b[1m4s\u001b[0m 12ms/step - accuracy: 0.3157 - cosine_similarity: 0.3706 - loss: 3.1890\n",
            "Epoch 26/150\n",
            "\u001b[1m365/365\u001b[0m \u001b[32m━━━━━━━━━━━━━━━━━━━━\u001b[0m\u001b[37m\u001b[0m \u001b[1m4s\u001b[0m 11ms/step - accuracy: 0.3319 - cosine_similarity: 0.3850 - loss: 3.0888\n",
            "Epoch 27/150\n",
            "\u001b[1m365/365\u001b[0m \u001b[32m━━━━━━━━━━━━━━━━━━━━\u001b[0m\u001b[37m\u001b[0m \u001b[1m4s\u001b[0m 11ms/step - accuracy: 0.3431 - cosine_similarity: 0.3889 - loss: 3.0635\n",
            "Epoch 28/150\n",
            "\u001b[1m365/365\u001b[0m \u001b[32m━━━━━━━━━━━━━━━━━━━━\u001b[0m\u001b[37m\u001b[0m \u001b[1m4s\u001b[0m 11ms/step - accuracy: 0.3476 - cosine_similarity: 0.3973 - loss: 3.0128\n",
            "Epoch 29/150\n",
            "\u001b[1m365/365\u001b[0m \u001b[32m━━━━━━━━━━━━━━━━━━━━\u001b[0m\u001b[37m\u001b[0m \u001b[1m4s\u001b[0m 11ms/step - accuracy: 0.3553 - cosine_similarity: 0.4066 - loss: 2.9601\n",
            "Epoch 30/150\n",
            "\u001b[1m365/365\u001b[0m \u001b[32m━━━━━━━━━━━━━━━━━━━━\u001b[0m\u001b[37m\u001b[0m \u001b[1m4s\u001b[0m 11ms/step - accuracy: 0.3624 - cosine_similarity: 0.4157 - loss: 2.8916\n",
            "Epoch 31/150\n",
            "\u001b[1m365/365\u001b[0m \u001b[32m━━━━━━━━━━━━━━━━━━━━\u001b[0m\u001b[37m\u001b[0m \u001b[1m4s\u001b[0m 11ms/step - accuracy: 0.3719 - cosine_similarity: 0.4277 - loss: 2.8185\n",
            "Epoch 32/150\n",
            "\u001b[1m365/365\u001b[0m \u001b[32m━━━━━━━━━━━━━━━━━━━━\u001b[0m\u001b[37m\u001b[0m \u001b[1m4s\u001b[0m 11ms/step - accuracy: 0.3847 - cosine_similarity: 0.4354 - loss: 2.7987\n",
            "Epoch 33/150\n",
            "\u001b[1m365/365\u001b[0m \u001b[32m━━━━━━━━━━━━━━━━━━━━\u001b[0m\u001b[37m\u001b[0m \u001b[1m4s\u001b[0m 11ms/step - accuracy: 0.4002 - cosine_similarity: 0.4449 - loss: 2.7401\n",
            "Epoch 34/150\n",
            "\u001b[1m365/365\u001b[0m \u001b[32m━━━━━━━━━━━━━━━━━━━━\u001b[0m\u001b[37m\u001b[0m \u001b[1m4s\u001b[0m 11ms/step - accuracy: 0.3849 - cosine_similarity: 0.4394 - loss: 2.7452\n",
            "Epoch 35/150\n",
            "\u001b[1m365/365\u001b[0m \u001b[32m━━━━━━━━━━━━━━━━━━━━\u001b[0m\u001b[37m\u001b[0m \u001b[1m4s\u001b[0m 11ms/step - accuracy: 0.4011 - cosine_similarity: 0.4527 - loss: 2.6634\n",
            "Epoch 36/150\n",
            "\u001b[1m365/365\u001b[0m \u001b[32m━━━━━━━━━━━━━━━━━━━━\u001b[0m\u001b[37m\u001b[0m \u001b[1m4s\u001b[0m 11ms/step - accuracy: 0.4063 - cosine_similarity: 0.4588 - loss: 2.6306\n",
            "Epoch 37/150\n",
            "\u001b[1m365/365\u001b[0m \u001b[32m━━━━━━━━━━━━━━━━━━━━\u001b[0m\u001b[37m\u001b[0m \u001b[1m4s\u001b[0m 11ms/step - accuracy: 0.4152 - cosine_similarity: 0.4633 - loss: 2.6190\n",
            "Epoch 38/150\n",
            "\u001b[1m365/365\u001b[0m \u001b[32m━━━━━━━━━━━━━━━━━━━━\u001b[0m\u001b[37m\u001b[0m \u001b[1m4s\u001b[0m 11ms/step - accuracy: 0.4061 - cosine_similarity: 0.4536 - loss: 2.6821\n",
            "Epoch 39/150\n",
            "\u001b[1m365/365\u001b[0m \u001b[32m━━━━━━━━━━━━━━━━━━━━\u001b[0m\u001b[37m\u001b[0m \u001b[1m4s\u001b[0m 11ms/step - accuracy: 0.3952 - cosine_similarity: 0.4502 - loss: 2.6725\n",
            "Epoch 40/150\n",
            "\u001b[1m365/365\u001b[0m \u001b[32m━━━━━━━━━━━━━━━━━━━━\u001b[0m\u001b[37m\u001b[0m \u001b[1m4s\u001b[0m 11ms/step - accuracy: 0.4196 - cosine_similarity: 0.4692 - loss: 2.5755\n",
            "Epoch 41/150\n",
            "\u001b[1m365/365\u001b[0m \u001b[32m━━━━━━━━━━━━━━━━━━━━\u001b[0m\u001b[37m\u001b[0m \u001b[1m4s\u001b[0m 11ms/step - accuracy: 0.4248 - cosine_similarity: 0.4724 - loss: 2.5537\n",
            "Epoch 42/150\n",
            "\u001b[1m365/365\u001b[0m \u001b[32m━━━━━━━━━━━━━━━━━━━━\u001b[0m\u001b[37m\u001b[0m \u001b[1m4s\u001b[0m 11ms/step - accuracy: 0.4356 - cosine_similarity: 0.4876 - loss: 2.4709\n",
            "Epoch 43/150\n",
            "\u001b[1m365/365\u001b[0m \u001b[32m━━━━━━━━━━━━━━━━━━━━\u001b[0m\u001b[37m\u001b[0m \u001b[1m4s\u001b[0m 11ms/step - accuracy: 0.4424 - cosine_similarity: 0.4898 - loss: 2.4689\n",
            "Epoch 44/150\n",
            "\u001b[1m365/365\u001b[0m \u001b[32m━━━━━━━━━━━━━━━━━━━━\u001b[0m\u001b[37m\u001b[0m \u001b[1m4s\u001b[0m 11ms/step - accuracy: 0.4571 - cosine_similarity: 0.5032 - loss: 2.4076\n",
            "Epoch 45/150\n",
            "\u001b[1m365/365\u001b[0m \u001b[32m━━━━━━━━━━━━━━━━━━━━\u001b[0m\u001b[37m\u001b[0m \u001b[1m4s\u001b[0m 11ms/step - accuracy: 0.4575 - cosine_similarity: 0.5052 - loss: 2.3641\n",
            "Epoch 46/150\n",
            "\u001b[1m365/365\u001b[0m \u001b[32m━━━━━━━━━━━━━━━━━━━━\u001b[0m\u001b[37m\u001b[0m \u001b[1m4s\u001b[0m 11ms/step - accuracy: 0.4419 - cosine_similarity: 0.4965 - loss: 2.4090\n",
            "Epoch 47/150\n",
            "\u001b[1m365/365\u001b[0m \u001b[32m━━━━━━━━━━━━━━━━━━━━\u001b[0m\u001b[37m\u001b[0m \u001b[1m4s\u001b[0m 11ms/step - accuracy: 0.4468 - cosine_similarity: 0.4994 - loss: 2.4057\n",
            "Epoch 48/150\n",
            "\u001b[1m365/365\u001b[0m \u001b[32m━━━━━━━━━━━━━━━━━━━━\u001b[0m\u001b[37m\u001b[0m \u001b[1m4s\u001b[0m 11ms/step - accuracy: 0.4417 - cosine_similarity: 0.4875 - loss: 2.4914\n",
            "Epoch 49/150\n",
            "\u001b[1m365/365\u001b[0m \u001b[32m━━━━━━━━━━━━━━━━━━━━\u001b[0m\u001b[37m\u001b[0m \u001b[1m4s\u001b[0m 11ms/step - accuracy: 0.4169 - cosine_similarity: 0.4706 - loss: 2.5582\n",
            "Epoch 50/150\n",
            "\u001b[1m365/365\u001b[0m \u001b[32m━━━━━━━━━━━━━━━━━━━━\u001b[0m\u001b[37m\u001b[0m \u001b[1m4s\u001b[0m 11ms/step - accuracy: 0.4457 - cosine_similarity: 0.4916 - loss: 2.4646\n",
            "Epoch 51/150\n",
            "\u001b[1m365/365\u001b[0m \u001b[32m━━━━━━━━━━━━━━━━━━━━\u001b[0m\u001b[37m\u001b[0m \u001b[1m4s\u001b[0m 11ms/step - accuracy: 0.4298 - cosine_similarity: 0.4836 - loss: 2.4831\n",
            "Epoch 52/150\n",
            "\u001b[1m365/365\u001b[0m \u001b[32m━━━━━━━━━━━━━━━━━━━━\u001b[0m\u001b[37m\u001b[0m \u001b[1m4s\u001b[0m 11ms/step - accuracy: 0.4486 - cosine_similarity: 0.4966 - loss: 2.4009\n",
            "Epoch 53/150\n",
            "\u001b[1m365/365\u001b[0m \u001b[32m━━━━━━━━━━━━━━━━━━━━\u001b[0m\u001b[37m\u001b[0m \u001b[1m4s\u001b[0m 11ms/step - accuracy: 0.4461 - cosine_similarity: 0.4972 - loss: 2.3989\n",
            "Epoch 54/150\n",
            "\u001b[1m365/365\u001b[0m \u001b[32m━━━━━━━━━━━━━━━━━━━━\u001b[0m\u001b[37m\u001b[0m \u001b[1m4s\u001b[0m 11ms/step - accuracy: 0.4539 - cosine_similarity: 0.5031 - loss: 2.3726\n",
            "Epoch 55/150\n",
            "\u001b[1m365/365\u001b[0m \u001b[32m━━━━━━━━━━━━━━━━━━━━\u001b[0m\u001b[37m\u001b[0m \u001b[1m4s\u001b[0m 11ms/step - accuracy: 0.4459 - cosine_similarity: 0.4981 - loss: 2.3947\n",
            "Epoch 56/150\n",
            "\u001b[1m365/365\u001b[0m \u001b[32m━━━━━━━━━━━━━━━━━━━━\u001b[0m\u001b[37m\u001b[0m \u001b[1m4s\u001b[0m 11ms/step - accuracy: 0.4715 - cosine_similarity: 0.5231 - loss: 2.2747\n",
            "Epoch 57/150\n",
            "\u001b[1m365/365\u001b[0m \u001b[32m━━━━━━━━━━━━━━━━━━━━\u001b[0m\u001b[37m\u001b[0m \u001b[1m4s\u001b[0m 11ms/step - accuracy: 0.4736 - cosine_similarity: 0.5180 - loss: 2.2997\n",
            "Epoch 58/150\n",
            "\u001b[1m365/365\u001b[0m \u001b[32m━━━━━━━━━━━━━━━━━━━━\u001b[0m\u001b[37m\u001b[0m \u001b[1m4s\u001b[0m 11ms/step - accuracy: 0.4806 - cosine_similarity: 0.5257 - loss: 2.2481\n",
            "Epoch 59/150\n",
            "\u001b[1m365/365\u001b[0m \u001b[32m━━━━━━━━━━━━━━━━━━━━\u001b[0m\u001b[37m\u001b[0m \u001b[1m4s\u001b[0m 11ms/step - accuracy: 0.4825 - cosine_similarity: 0.5291 - loss: 2.2328\n",
            "Epoch 60/150\n",
            "\u001b[1m365/365\u001b[0m \u001b[32m━━━━━━━━━━━━━━━━━━━━\u001b[0m\u001b[37m\u001b[0m \u001b[1m4s\u001b[0m 11ms/step - accuracy: 0.4803 - cosine_similarity: 0.5310 - loss: 2.2247\n",
            "Epoch 61/150\n",
            "\u001b[1m365/365\u001b[0m \u001b[32m━━━━━━━━━━━━━━━━━━━━\u001b[0m\u001b[37m\u001b[0m \u001b[1m4s\u001b[0m 12ms/step - accuracy: 0.4859 - cosine_similarity: 0.5318 - loss: 2.2149\n",
            "Epoch 62/150\n",
            "\u001b[1m365/365\u001b[0m \u001b[32m━━━━━━━━━━━━━━━━━━━━\u001b[0m\u001b[37m\u001b[0m \u001b[1m6s\u001b[0m 16ms/step - accuracy: 0.4835 - cosine_similarity: 0.5330 - loss: 2.1984\n",
            "Epoch 63/150\n",
            "\u001b[1m365/365\u001b[0m \u001b[32m━━━━━━━━━━━━━━━━━━━━\u001b[0m\u001b[37m\u001b[0m \u001b[1m4s\u001b[0m 12ms/step - accuracy: 0.4922 - cosine_similarity: 0.5355 - loss: 2.2019\n",
            "Epoch 64/150\n",
            "\u001b[1m365/365\u001b[0m \u001b[32m━━━━━━━━━━━━━━━━━━━━\u001b[0m\u001b[37m\u001b[0m \u001b[1m4s\u001b[0m 11ms/step - accuracy: 0.4781 - cosine_similarity: 0.5275 - loss: 2.2209\n",
            "Epoch 65/150\n",
            "\u001b[1m365/365\u001b[0m \u001b[32m━━━━━━━━━━━━━━━━━━━━\u001b[0m\u001b[37m\u001b[0m \u001b[1m4s\u001b[0m 11ms/step - accuracy: 0.4767 - cosine_similarity: 0.5264 - loss: 2.2279\n",
            "Epoch 66/150\n",
            "\u001b[1m365/365\u001b[0m \u001b[32m━━━━━━━━━━━━━━━━━━━━\u001b[0m\u001b[37m\u001b[0m \u001b[1m4s\u001b[0m 11ms/step - accuracy: 0.4880 - cosine_similarity: 0.5356 - loss: 2.1795\n",
            "Epoch 67/150\n",
            "\u001b[1m365/365\u001b[0m \u001b[32m━━━━━━━━━━━━━━━━━━━━\u001b[0m\u001b[37m\u001b[0m \u001b[1m4s\u001b[0m 11ms/step - accuracy: 0.4867 - cosine_similarity: 0.5326 - loss: 2.2118\n",
            "Epoch 68/150\n",
            "\u001b[1m365/365\u001b[0m \u001b[32m━━━━━━━━━━━━━━━━━━━━\u001b[0m\u001b[37m\u001b[0m \u001b[1m4s\u001b[0m 11ms/step - accuracy: 0.4962 - cosine_similarity: 0.5405 - loss: 2.1584\n",
            "Epoch 69/150\n",
            "\u001b[1m365/365\u001b[0m \u001b[32m━━━━━━━━━━━━━━━━━━━━\u001b[0m\u001b[37m\u001b[0m \u001b[1m4s\u001b[0m 11ms/step - accuracy: 0.4898 - cosine_similarity: 0.5365 - loss: 2.1992\n",
            "Epoch 70/150\n",
            "\u001b[1m365/365\u001b[0m \u001b[32m━━━━━━━━━━━━━━━━━━━━\u001b[0m\u001b[37m\u001b[0m \u001b[1m4s\u001b[0m 11ms/step - accuracy: 0.4857 - cosine_similarity: 0.5339 - loss: 2.1863\n",
            "Epoch 71/150\n",
            "\u001b[1m365/365\u001b[0m \u001b[32m━━━━━━━━━━━━━━━━━━━━\u001b[0m\u001b[37m\u001b[0m \u001b[1m4s\u001b[0m 11ms/step - accuracy: 0.4849 - cosine_similarity: 0.5348 - loss: 2.1795\n",
            "Epoch 72/150\n",
            "\u001b[1m365/365\u001b[0m \u001b[32m━━━━━━━━━━━━━━━━━━━━\u001b[0m\u001b[37m\u001b[0m \u001b[1m4s\u001b[0m 11ms/step - accuracy: 0.4861 - cosine_similarity: 0.5307 - loss: 2.2274\n",
            "Epoch 73/150\n",
            "\u001b[1m365/365\u001b[0m \u001b[32m━━━━━━━━━━━━━━━━━━━━\u001b[0m\u001b[37m\u001b[0m \u001b[1m4s\u001b[0m 11ms/step - accuracy: 0.4911 - cosine_similarity: 0.5397 - loss: 2.1534\n",
            "Epoch 74/150\n",
            "\u001b[1m365/365\u001b[0m \u001b[32m━━━━━━━━━━━━━━━━━━━━\u001b[0m\u001b[37m\u001b[0m \u001b[1m4s\u001b[0m 11ms/step - accuracy: 0.4891 - cosine_similarity: 0.5378 - loss: 2.1677\n",
            "Epoch 75/150\n",
            "\u001b[1m365/365\u001b[0m \u001b[32m━━━━━━━━━━━━━━━━━━━━\u001b[0m\u001b[37m\u001b[0m \u001b[1m4s\u001b[0m 11ms/step - accuracy: 0.4932 - cosine_similarity: 0.5394 - loss: 2.1741\n",
            "Epoch 76/150\n",
            "\u001b[1m365/365\u001b[0m \u001b[32m━━━━━━━━━━━━━━━━━━━━\u001b[0m\u001b[37m\u001b[0m \u001b[1m4s\u001b[0m 11ms/step - accuracy: 0.5032 - cosine_similarity: 0.5466 - loss: 2.1279\n",
            "Epoch 77/150\n",
            "\u001b[1m365/365\u001b[0m \u001b[32m━━━━━━━━━━━━━━━━━━━━\u001b[0m\u001b[37m\u001b[0m \u001b[1m4s\u001b[0m 11ms/step - accuracy: 0.4888 - cosine_similarity: 0.5359 - loss: 2.1889\n",
            "Epoch 78/150\n",
            "\u001b[1m365/365\u001b[0m \u001b[32m━━━━━━━━━━━━━━━━━━━━\u001b[0m\u001b[37m\u001b[0m \u001b[1m4s\u001b[0m 11ms/step - accuracy: 0.4933 - cosine_similarity: 0.5400 - loss: 2.1652\n",
            "Epoch 79/150\n",
            "\u001b[1m365/365\u001b[0m \u001b[32m━━━━━━━━━━━━━━━━━━━━\u001b[0m\u001b[37m\u001b[0m \u001b[1m4s\u001b[0m 11ms/step - accuracy: 0.4928 - cosine_similarity: 0.5397 - loss: 2.1505\n",
            "Epoch 80/150\n",
            "\u001b[1m365/365\u001b[0m \u001b[32m━━━━━━━━━━━━━━━━━━━━\u001b[0m\u001b[37m\u001b[0m \u001b[1m4s\u001b[0m 11ms/step - accuracy: 0.4949 - cosine_similarity: 0.5429 - loss: 2.1352\n",
            "Epoch 81/150\n",
            "\u001b[1m365/365\u001b[0m \u001b[32m━━━━━━━━━━━━━━━━━━━━\u001b[0m\u001b[37m\u001b[0m \u001b[1m4s\u001b[0m 11ms/step - accuracy: 0.5029 - cosine_similarity: 0.5524 - loss: 2.0976\n",
            "Epoch 82/150\n",
            "\u001b[1m365/365\u001b[0m \u001b[32m━━━━━━━━━━━━━━━━━━━━\u001b[0m\u001b[37m\u001b[0m \u001b[1m4s\u001b[0m 11ms/step - accuracy: 0.5120 - cosine_similarity: 0.5574 - loss: 2.0688\n",
            "Epoch 83/150\n",
            "\u001b[1m365/365\u001b[0m \u001b[32m━━━━━━━━━━━━━━━━━━━━\u001b[0m\u001b[37m\u001b[0m \u001b[1m4s\u001b[0m 11ms/step - accuracy: 0.5099 - cosine_similarity: 0.5551 - loss: 2.0842\n",
            "Epoch 84/150\n",
            "\u001b[1m365/365\u001b[0m \u001b[32m━━━━━━━━━━━━━━━━━━━━\u001b[0m\u001b[37m\u001b[0m \u001b[1m4s\u001b[0m 11ms/step - accuracy: 0.5198 - cosine_similarity: 0.5640 - loss: 2.0442\n",
            "Epoch 85/150\n",
            "\u001b[1m365/365\u001b[0m \u001b[32m━━━━━━━━━━━━━━━━━━━━\u001b[0m\u001b[37m\u001b[0m \u001b[1m4s\u001b[0m 11ms/step - accuracy: 0.5043 - cosine_similarity: 0.5549 - loss: 2.0746\n",
            "Epoch 86/150\n",
            "\u001b[1m365/365\u001b[0m \u001b[32m━━━━━━━━━━━━━━━━━━━━\u001b[0m\u001b[37m\u001b[0m \u001b[1m4s\u001b[0m 11ms/step - accuracy: 0.5069 - cosine_similarity: 0.5558 - loss: 2.0807\n",
            "Epoch 87/150\n",
            "\u001b[1m365/365\u001b[0m \u001b[32m━━━━━━━━━━━━━━━━━━━━\u001b[0m\u001b[37m\u001b[0m \u001b[1m4s\u001b[0m 11ms/step - accuracy: 0.5075 - cosine_similarity: 0.5565 - loss: 2.0650\n",
            "Epoch 88/150\n",
            "\u001b[1m365/365\u001b[0m \u001b[32m━━━━━━━━━━━━━━━━━━━━\u001b[0m\u001b[37m\u001b[0m \u001b[1m4s\u001b[0m 11ms/step - accuracy: 0.5037 - cosine_similarity: 0.5556 - loss: 2.0698\n",
            "Epoch 89/150\n",
            "\u001b[1m365/365\u001b[0m \u001b[32m━━━━━━━━━━━━━━━━━━━━\u001b[0m\u001b[37m\u001b[0m \u001b[1m4s\u001b[0m 11ms/step - accuracy: 0.5048 - cosine_similarity: 0.5526 - loss: 2.0965\n",
            "Epoch 90/150\n",
            "\u001b[1m365/365\u001b[0m \u001b[32m━━━━━━━━━━━━━━━━━━━━\u001b[0m\u001b[37m\u001b[0m \u001b[1m4s\u001b[0m 11ms/step - accuracy: 0.5135 - cosine_similarity: 0.5565 - loss: 2.0870\n",
            "Epoch 91/150\n",
            "\u001b[1m365/365\u001b[0m \u001b[32m━━━━━━━━━━━━━━━━━━━━\u001b[0m\u001b[37m\u001b[0m \u001b[1m4s\u001b[0m 11ms/step - accuracy: 0.5075 - cosine_similarity: 0.5553 - loss: 2.0797\n",
            "Epoch 92/150\n",
            "\u001b[1m365/365\u001b[0m \u001b[32m━━━━━━━━━━━━━━━━━━━━\u001b[0m\u001b[37m\u001b[0m \u001b[1m4s\u001b[0m 11ms/step - accuracy: 0.5017 - cosine_similarity: 0.5486 - loss: 2.0983\n",
            "Epoch 93/150\n",
            "\u001b[1m365/365\u001b[0m \u001b[32m━━━━━━━━━━━━━━━━━━━━\u001b[0m\u001b[37m\u001b[0m \u001b[1m4s\u001b[0m 11ms/step - accuracy: 0.5063 - cosine_similarity: 0.5481 - loss: 2.1133\n",
            "Epoch 94/150\n",
            "\u001b[1m365/365\u001b[0m \u001b[32m━━━━━━━━━━━━━━━━━━━━\u001b[0m\u001b[37m\u001b[0m \u001b[1m6s\u001b[0m 15ms/step - accuracy: 0.4958 - cosine_similarity: 0.5405 - loss: 2.1534\n",
            "Epoch 95/150\n",
            "\u001b[1m365/365\u001b[0m \u001b[32m━━━━━━━━━━━━━━━━━━━━\u001b[0m\u001b[37m\u001b[0m \u001b[1m5s\u001b[0m 12ms/step - accuracy: 0.4941 - cosine_similarity: 0.5434 - loss: 2.1294\n",
            "Epoch 96/150\n",
            "\u001b[1m365/365\u001b[0m \u001b[32m━━━━━━━━━━━━━━━━━━━━\u001b[0m\u001b[37m\u001b[0m \u001b[1m4s\u001b[0m 11ms/step - accuracy: 0.4971 - cosine_similarity: 0.5471 - loss: 2.1198\n",
            "Epoch 97/150\n",
            "\u001b[1m365/365\u001b[0m \u001b[32m━━━━━━━━━━━━━━━━━━━━\u001b[0m\u001b[37m\u001b[0m \u001b[1m4s\u001b[0m 11ms/step - accuracy: 0.5028 - cosine_similarity: 0.5500 - loss: 2.0957\n",
            "Epoch 98/150\n",
            "\u001b[1m365/365\u001b[0m \u001b[32m━━━━━━━━━━━━━━━━━━━━\u001b[0m\u001b[37m\u001b[0m \u001b[1m4s\u001b[0m 11ms/step - accuracy: 0.5077 - cosine_similarity: 0.5542 - loss: 2.0764\n",
            "Epoch 99/150\n",
            "\u001b[1m365/365\u001b[0m \u001b[32m━━━━━━━━━━━━━━━━━━━━\u001b[0m\u001b[37m\u001b[0m \u001b[1m4s\u001b[0m 11ms/step - accuracy: 0.5199 - cosine_similarity: 0.5648 - loss: 2.0346\n",
            "Epoch 100/150\n",
            "\u001b[1m365/365\u001b[0m \u001b[32m━━━━━━━━━━━━━━━━━━━━\u001b[0m\u001b[37m\u001b[0m \u001b[1m4s\u001b[0m 11ms/step - accuracy: 0.5206 - cosine_similarity: 0.5644 - loss: 2.0095\n",
            "Epoch 101/150\n",
            "\u001b[1m365/365\u001b[0m \u001b[32m━━━━━━━━━━━━━━━━━━━━\u001b[0m\u001b[37m\u001b[0m \u001b[1m4s\u001b[0m 11ms/step - accuracy: 0.5012 - cosine_similarity: 0.5512 - loss: 2.0728\n",
            "Epoch 102/150\n",
            "\u001b[1m365/365\u001b[0m \u001b[32m━━━━━━━━━━━━━━━━━━━━\u001b[0m\u001b[37m\u001b[0m \u001b[1m4s\u001b[0m 11ms/step - accuracy: 0.5216 - cosine_similarity: 0.5687 - loss: 1.9976\n",
            "Epoch 103/150\n",
            "\u001b[1m365/365\u001b[0m \u001b[32m━━━━━━━━━━━━━━━━━━━━\u001b[0m\u001b[37m\u001b[0m \u001b[1m4s\u001b[0m 11ms/step - accuracy: 0.5218 - cosine_similarity: 0.5652 - loss: 2.0287\n",
            "Epoch 104/150\n",
            "\u001b[1m365/365\u001b[0m \u001b[32m━━━━━━━━━━━━━━━━━━━━\u001b[0m\u001b[37m\u001b[0m \u001b[1m4s\u001b[0m 11ms/step - accuracy: 0.5157 - cosine_similarity: 0.5647 - loss: 2.0136\n",
            "Epoch 105/150\n",
            "\u001b[1m365/365\u001b[0m \u001b[32m━━━━━━━━━━━━━━━━━━━━\u001b[0m\u001b[37m\u001b[0m \u001b[1m4s\u001b[0m 11ms/step - accuracy: 0.5203 - cosine_similarity: 0.5682 - loss: 2.0162\n",
            "Epoch 106/150\n",
            "\u001b[1m365/365\u001b[0m \u001b[32m━━━━━━━━━━━━━━━━━━━━\u001b[0m\u001b[37m\u001b[0m \u001b[1m4s\u001b[0m 11ms/step - accuracy: 0.5207 - cosine_similarity: 0.5690 - loss: 1.9974\n",
            "Epoch 107/150\n",
            "\u001b[1m365/365\u001b[0m \u001b[32m━━━━━━━━━━━━━━━━━━━━\u001b[0m\u001b[37m\u001b[0m \u001b[1m4s\u001b[0m 11ms/step - accuracy: 0.5248 - cosine_similarity: 0.5700 - loss: 1.9864\n",
            "Epoch 108/150\n",
            "\u001b[1m365/365\u001b[0m \u001b[32m━━━━━━━━━━━━━━━━━━━━\u001b[0m\u001b[37m\u001b[0m \u001b[1m4s\u001b[0m 11ms/step - accuracy: 0.5204 - cosine_similarity: 0.5692 - loss: 2.0061\n",
            "Epoch 109/150\n",
            "\u001b[1m365/365\u001b[0m \u001b[32m━━━━━━━━━━━━━━━━━━━━\u001b[0m\u001b[37m\u001b[0m \u001b[1m4s\u001b[0m 11ms/step - accuracy: 0.5116 - cosine_similarity: 0.5619 - loss: 2.0139\n",
            "Epoch 110/150\n",
            "\u001b[1m365/365\u001b[0m \u001b[32m━━━━━━━━━━━━━━━━━━━━\u001b[0m\u001b[37m\u001b[0m \u001b[1m4s\u001b[0m 11ms/step - accuracy: 0.5179 - cosine_similarity: 0.5652 - loss: 2.0118\n",
            "Epoch 111/150\n",
            "\u001b[1m365/365\u001b[0m \u001b[32m━━━━━━━━━━━━━━━━━━━━\u001b[0m\u001b[37m\u001b[0m \u001b[1m4s\u001b[0m 11ms/step - accuracy: 0.5262 - cosine_similarity: 0.5705 - loss: 1.9931\n",
            "Epoch 112/150\n",
            "\u001b[1m365/365\u001b[0m \u001b[32m━━━━━━━━━━━━━━━━━━━━\u001b[0m\u001b[37m\u001b[0m \u001b[1m4s\u001b[0m 11ms/step - accuracy: 0.5254 - cosine_similarity: 0.5710 - loss: 2.0001\n",
            "Epoch 113/150\n",
            "\u001b[1m365/365\u001b[0m \u001b[32m━━━━━━━━━━━━━━━━━━━━\u001b[0m\u001b[37m\u001b[0m \u001b[1m4s\u001b[0m 11ms/step - accuracy: 0.5140 - cosine_similarity: 0.5602 - loss: 2.0544\n",
            "Epoch 114/150\n",
            "\u001b[1m365/365\u001b[0m \u001b[32m━━━━━━━━━━━━━━━━━━━━\u001b[0m\u001b[37m\u001b[0m \u001b[1m4s\u001b[0m 11ms/step - accuracy: 0.5212 - cosine_similarity: 0.5668 - loss: 2.0141\n",
            "Epoch 115/150\n",
            "\u001b[1m365/365\u001b[0m \u001b[32m━━━━━━━━━━━━━━━━━━━━\u001b[0m\u001b[37m\u001b[0m \u001b[1m4s\u001b[0m 11ms/step - accuracy: 0.5207 - cosine_similarity: 0.5682 - loss: 1.9980\n",
            "Epoch 116/150\n",
            "\u001b[1m365/365\u001b[0m \u001b[32m━━━━━━━━━━━━━━━━━━━━\u001b[0m\u001b[37m\u001b[0m \u001b[1m4s\u001b[0m 11ms/step - accuracy: 0.5266 - cosine_similarity: 0.5769 - loss: 1.9440\n",
            "Epoch 117/150\n",
            "\u001b[1m365/365\u001b[0m \u001b[32m━━━━━━━━━━━━━━━━━━━━\u001b[0m\u001b[37m\u001b[0m \u001b[1m4s\u001b[0m 11ms/step - accuracy: 0.5366 - cosine_similarity: 0.5824 - loss: 1.9305\n",
            "Epoch 118/150\n",
            "\u001b[1m365/365\u001b[0m \u001b[32m━━━━━━━━━━━━━━━━━━━━\u001b[0m\u001b[37m\u001b[0m \u001b[1m4s\u001b[0m 11ms/step - accuracy: 0.5351 - cosine_similarity: 0.5812 - loss: 1.9326\n",
            "Epoch 119/150\n",
            "\u001b[1m365/365\u001b[0m \u001b[32m━━━━━━━━━━━━━━━━━━━━\u001b[0m\u001b[37m\u001b[0m \u001b[1m4s\u001b[0m 11ms/step - accuracy: 0.5339 - cosine_similarity: 0.5796 - loss: 1.9346\n",
            "Epoch 120/150\n",
            "\u001b[1m365/365\u001b[0m \u001b[32m━━━━━━━━━━━━━━━━━━━━\u001b[0m\u001b[37m\u001b[0m \u001b[1m4s\u001b[0m 11ms/step - accuracy: 0.5172 - cosine_similarity: 0.5662 - loss: 2.0110\n",
            "Epoch 121/150\n",
            "\u001b[1m365/365\u001b[0m \u001b[32m━━━━━━━━━━━━━━━━━━━━\u001b[0m\u001b[37m\u001b[0m \u001b[1m4s\u001b[0m 11ms/step - accuracy: 0.4395 - cosine_similarity: 0.4918 - loss: 2.4297\n",
            "Epoch 122/150\n",
            "\u001b[1m365/365\u001b[0m \u001b[32m━━━━━━━━━━━━━━━━━━━━\u001b[0m\u001b[37m\u001b[0m \u001b[1m4s\u001b[0m 11ms/step - accuracy: 0.4812 - cosine_similarity: 0.5341 - loss: 2.1636\n",
            "Epoch 123/150\n",
            "\u001b[1m365/365\u001b[0m \u001b[32m━━━━━━━━━━━━━━━━━━━━\u001b[0m\u001b[37m\u001b[0m \u001b[1m4s\u001b[0m 11ms/step - accuracy: 0.4976 - cosine_similarity: 0.5462 - loss: 2.1041\n",
            "Epoch 124/150\n",
            "\u001b[1m365/365\u001b[0m \u001b[32m━━━━━━━━━━━━━━━━━━━━\u001b[0m\u001b[37m\u001b[0m \u001b[1m4s\u001b[0m 11ms/step - accuracy: 0.5050 - cosine_similarity: 0.5500 - loss: 2.0865\n",
            "Epoch 125/150\n",
            "\u001b[1m365/365\u001b[0m \u001b[32m━━━━━━━━━━━━━━━━━━━━\u001b[0m\u001b[37m\u001b[0m \u001b[1m4s\u001b[0m 11ms/step - accuracy: 0.5070 - cosine_similarity: 0.5546 - loss: 2.0565\n",
            "Epoch 126/150\n",
            "\u001b[1m365/365\u001b[0m \u001b[32m━━━━━━━━━━━━━━━━━━━━\u001b[0m\u001b[37m\u001b[0m \u001b[1m4s\u001b[0m 11ms/step - accuracy: 0.5143 - cosine_similarity: 0.5634 - loss: 2.0071\n",
            "Epoch 127/150\n",
            "\u001b[1m365/365\u001b[0m \u001b[32m━━━━━━━━━━━━━━━━━━━━\u001b[0m\u001b[37m\u001b[0m \u001b[1m4s\u001b[0m 11ms/step - accuracy: 0.5240 - cosine_similarity: 0.5687 - loss: 1.9777\n",
            "Epoch 128/150\n",
            "\u001b[1m365/365\u001b[0m \u001b[32m━━━━━━━━━━━━━━━━━━━━\u001b[0m\u001b[37m\u001b[0m \u001b[1m4s\u001b[0m 11ms/step - accuracy: 0.5181 - cosine_similarity: 0.5704 - loss: 1.9749\n",
            "Epoch 129/150\n",
            "\u001b[1m365/365\u001b[0m \u001b[32m━━━━━━━━━━━━━━━━━━━━\u001b[0m\u001b[37m\u001b[0m \u001b[1m4s\u001b[0m 11ms/step - accuracy: 0.5279 - cosine_similarity: 0.5728 - loss: 1.9823\n",
            "Epoch 130/150\n",
            "\u001b[1m365/365\u001b[0m \u001b[32m━━━━━━━━━━━━━━━━━━━━\u001b[0m\u001b[37m\u001b[0m \u001b[1m4s\u001b[0m 11ms/step - accuracy: 0.5231 - cosine_similarity: 0.5697 - loss: 1.9852\n",
            "Epoch 131/150\n",
            "\u001b[1m365/365\u001b[0m \u001b[32m━━━━━━━━━━━━━━━━━━━━\u001b[0m\u001b[37m\u001b[0m \u001b[1m4s\u001b[0m 11ms/step - accuracy: 0.5169 - cosine_similarity: 0.5673 - loss: 1.9995\n",
            "Epoch 132/150\n",
            "\u001b[1m365/365\u001b[0m \u001b[32m━━━━━━━━━━━━━━━━━━━━\u001b[0m\u001b[37m\u001b[0m \u001b[1m4s\u001b[0m 11ms/step - accuracy: 0.5187 - cosine_similarity: 0.5672 - loss: 2.0143\n",
            "Epoch 133/150\n",
            "\u001b[1m365/365\u001b[0m \u001b[32m━━━━━━━━━━━━━━━━━━━━\u001b[0m\u001b[37m\u001b[0m \u001b[1m4s\u001b[0m 11ms/step - accuracy: 0.5162 - cosine_similarity: 0.5607 - loss: 2.0304\n",
            "Epoch 134/150\n",
            "\u001b[1m365/365\u001b[0m \u001b[32m━━━━━━━━━━━━━━━━━━━━\u001b[0m\u001b[37m\u001b[0m \u001b[1m4s\u001b[0m 11ms/step - accuracy: 0.5148 - cosine_similarity: 0.5604 - loss: 2.0415\n",
            "Epoch 135/150\n",
            "\u001b[1m365/365\u001b[0m \u001b[32m━━━━━━━━━━━━━━━━━━━━\u001b[0m\u001b[37m\u001b[0m \u001b[1m4s\u001b[0m 11ms/step - accuracy: 0.4974 - cosine_similarity: 0.5503 - loss: 2.0743\n",
            "Epoch 136/150\n",
            "\u001b[1m365/365\u001b[0m \u001b[32m━━━━━━━━━━━━━━━━━━━━\u001b[0m\u001b[37m\u001b[0m \u001b[1m4s\u001b[0m 11ms/step - accuracy: 0.5129 - cosine_similarity: 0.5613 - loss: 2.0322\n",
            "Epoch 137/150\n",
            "\u001b[1m365/365\u001b[0m \u001b[32m━━━━━━━━━━━━━━━━━━━━\u001b[0m\u001b[37m\u001b[0m \u001b[1m4s\u001b[0m 11ms/step - accuracy: 0.5107 - cosine_similarity: 0.5609 - loss: 2.0305\n",
            "Epoch 138/150\n",
            "\u001b[1m365/365\u001b[0m \u001b[32m━━━━━━━━━━━━━━━━━━━━\u001b[0m\u001b[37m\u001b[0m \u001b[1m4s\u001b[0m 11ms/step - accuracy: 0.5194 - cosine_similarity: 0.5664 - loss: 2.0215\n",
            "Epoch 139/150\n",
            "\u001b[1m365/365\u001b[0m \u001b[32m━━━━━━━━━━━━━━━━━━━━\u001b[0m\u001b[37m\u001b[0m \u001b[1m4s\u001b[0m 11ms/step - accuracy: 0.5127 - cosine_similarity: 0.5629 - loss: 2.0267\n",
            "Epoch 140/150\n",
            "\u001b[1m365/365\u001b[0m \u001b[32m━━━━━━━━━━━━━━━━━━━━\u001b[0m\u001b[37m\u001b[0m \u001b[1m4s\u001b[0m 11ms/step - accuracy: 0.5158 - cosine_similarity: 0.5640 - loss: 2.0126\n",
            "Epoch 141/150\n",
            "\u001b[1m365/365\u001b[0m \u001b[32m━━━━━━━━━━━━━━━━━━━━\u001b[0m\u001b[37m\u001b[0m \u001b[1m4s\u001b[0m 11ms/step - accuracy: 0.5201 - cosine_similarity: 0.5709 - loss: 1.9885\n",
            "Epoch 142/150\n",
            "\u001b[1m365/365\u001b[0m \u001b[32m━━━━━━━━━━━━━━━━━━━━\u001b[0m\u001b[37m\u001b[0m \u001b[1m4s\u001b[0m 11ms/step - accuracy: 0.5254 - cosine_similarity: 0.5705 - loss: 1.9876\n",
            "Epoch 143/150\n",
            "\u001b[1m365/365\u001b[0m \u001b[32m━━━━━━━━━━━━━━━━━━━━\u001b[0m\u001b[37m\u001b[0m \u001b[1m4s\u001b[0m 11ms/step - accuracy: 0.5157 - cosine_similarity: 0.5661 - loss: 1.9935\n",
            "Epoch 144/150\n",
            "\u001b[1m365/365\u001b[0m \u001b[32m━━━━━━━━━━━━━━━━━━━━\u001b[0m\u001b[37m\u001b[0m \u001b[1m4s\u001b[0m 11ms/step - accuracy: 0.5091 - cosine_similarity: 0.5598 - loss: 2.0347\n",
            "Epoch 145/150\n",
            "\u001b[1m365/365\u001b[0m \u001b[32m━━━━━━━━━━━━━━━━━━━━\u001b[0m\u001b[37m\u001b[0m \u001b[1m4s\u001b[0m 11ms/step - accuracy: 0.5130 - cosine_similarity: 0.5593 - loss: 2.0468\n",
            "Epoch 146/150\n",
            "\u001b[1m365/365\u001b[0m \u001b[32m━━━━━━━━━━━━━━━━━━━━\u001b[0m\u001b[37m\u001b[0m \u001b[1m4s\u001b[0m 11ms/step - accuracy: 0.5110 - cosine_similarity: 0.5566 - loss: 2.0611\n",
            "Epoch 147/150\n",
            "\u001b[1m365/365\u001b[0m \u001b[32m━━━━━━━━━━━━━━━━━━━━\u001b[0m\u001b[37m\u001b[0m \u001b[1m4s\u001b[0m 11ms/step - accuracy: 0.5102 - cosine_similarity: 0.5590 - loss: 2.0253\n",
            "Epoch 148/150\n",
            "\u001b[1m365/365\u001b[0m \u001b[32m━━━━━━━━━━━━━━━━━━━━\u001b[0m\u001b[37m\u001b[0m \u001b[1m4s\u001b[0m 11ms/step - accuracy: 0.5115 - cosine_similarity: 0.5586 - loss: 2.0462\n",
            "Epoch 149/150\n",
            "\u001b[1m365/365\u001b[0m \u001b[32m━━━━━━━━━━━━━━━━━━━━\u001b[0m\u001b[37m\u001b[0m \u001b[1m4s\u001b[0m 11ms/step - accuracy: 0.5177 - cosine_similarity: 0.5617 - loss: 2.0334\n",
            "Epoch 150/150\n",
            "\u001b[1m365/365\u001b[0m \u001b[32m━━━━━━━━━━━━━━━━━━━━\u001b[0m\u001b[37m\u001b[0m \u001b[1m4s\u001b[0m 11ms/step - accuracy: 0.5264 - cosine_similarity: 0.5735 - loss: 1.9766\n"
          ]
        }
      ],
      "source": [
        "hist = model.fit(xs, ys, callbacks=[checkpoint], epochs=150)"
      ]
    },
    {
      "cell_type": "code",
      "execution_count": null,
      "metadata": {
        "colab": {
          "base_uri": "https://localhost:8080/",
          "height": 449
        },
        "id": "7GVv6GxTvb2A",
        "outputId": "9e3efd5b-5075-43a3-86ca-cd530c662428"
      },
      "outputs": [
        {
          "data": {
            "image/png": "[encoded data removed]",
            "text/plain": [
              "<Figure size 640x480 with 1 Axes>"
            ]
          },
          "metadata": {},
          "output_type": "display_data"
        }
      ],
      "source": [
        "plt.plot(hist.history['cosine_similarity'])\n",
        "plt.xlabel('Epochs')\n",
        "plt.ylabel('cosine_similarity')\n",
        "plt.show()"
      ]
    },
    {
      "cell_type": "code",
      "execution_count": null,
      "metadata": {
        "colab": {
          "base_uri": "https://localhost:8080/",
          "height": 449
        },
        "id": "85qpmn2CU078",
        "outputId": "e46e39a4-2dc4-48dd-e9fc-aa2fd2ef28e3"
      },
      "outputs": [
        {
          "data": {
            "image/png": "[encoded data removed]",
            "text/plain": [
              "<Figure size 640x480 with 1 Axes>"
            ]
          },
          "metadata": {},
          "output_type": "display_data"
        }
      ],
      "source": [
        "plt.plot(hist.history['loss'])\n",
        "plt.xlabel('Epochs')\n",
        "plt.ylabel('loss')\n",
        "plt.show()"
      ]
    },
    {
      "cell_type": "code",
      "execution_count": 7,
      "metadata": {
        "id": "whYxdrPJTBOV"
      },
      "outputs": [
        {
          "name": "stderr",
          "output_type": "stream",
          "text": [
            "WARNING: All log messages before absl::InitializeLog() is called are written to STDERR\n",
            "I0000 00:00:1728053531.646093    3168 cuda_executor.cc:1015] successful NUMA node read from SysFS had negative value (-1), but there must be at least one NUMA node, so returning NUMA node zero. See more at https://github.com/torvalds/linux/blob/v6.0/Documentation/ABI/testing/sysfs-bus-pci#L344-L355\n",
            "I0000 00:00:1728053531.884319    3168 cuda_executor.cc:1015] successful NUMA node read from SysFS had negative value (-1), but there must be at least one NUMA node, so returning NUMA node zero. See more at https://github.com/torvalds/linux/blob/v6.0/Documentation/ABI/testing/sysfs-bus-pci#L344-L355\n",
            "I0000 00:00:1728053531.884718    3168 cuda_executor.cc:1015] successful NUMA node read from SysFS had negative value (-1), but there must be at least one NUMA node, so returning NUMA node zero. See more at https://github.com/torvalds/linux/blob/v6.0/Documentation/ABI/testing/sysfs-bus-pci#L344-L355\n",
            "I0000 00:00:1728053531.887273    3168 cuda_executor.cc:1015] successful NUMA node read from SysFS had negative value (-1), but there must be at least one NUMA node, so returning NUMA node zero. See more at https://github.com/torvalds/linux/blob/v6.0/Documentation/ABI/testing/sysfs-bus-pci#L344-L355\n",
            "I0000 00:00:1728053531.887569    3168 cuda_executor.cc:1015] successful NUMA node read from SysFS had negative value (-1), but there must be at least one NUMA node, so returning NUMA node zero. See more at https://github.com/torvalds/linux/blob/v6.0/Documentation/ABI/testing/sysfs-bus-pci#L344-L355\n",
            "I0000 00:00:1728053531.887789    3168 cuda_executor.cc:1015] successful NUMA node read from SysFS had negative value (-1), but there must be at least one NUMA node, so returning NUMA node zero. See more at https://github.com/torvalds/linux/blob/v6.0/Documentation/ABI/testing/sysfs-bus-pci#L344-L355\n",
            "I0000 00:00:1728053532.039589    3168 cuda_executor.cc:1015] successful NUMA node read from SysFS had negative value (-1), but there must be at least one NUMA node, so returning NUMA node zero. See more at https://github.com/torvalds/linux/blob/v6.0/Documentation/ABI/testing/sysfs-bus-pci#L344-L355\n",
            "I0000 00:00:1728053532.039869    3168 cuda_executor.cc:1015] successful NUMA node read from SysFS had negative value (-1), but there must be at least one NUMA node, so returning NUMA node zero. See more at https://github.com/torvalds/linux/blob/v6.0/Documentation/ABI/testing/sysfs-bus-pci#L344-L355\n",
            "I0000 00:00:1728053532.040133    3168 cuda_executor.cc:1015] successful NUMA node read from SysFS had negative value (-1), but there must be at least one NUMA node, so returning NUMA node zero. See more at https://github.com/torvalds/linux/blob/v6.0/Documentation/ABI/testing/sysfs-bus-pci#L344-L355\n",
            "2024-10-04 18:22:12.040775: I tensorflow/core/common_runtime/gpu/gpu_device.cc:2021] Created device /job:localhost/replica:0/task:0/device:GPU:0 with 1730 MB memory:  -> device: 0, name: NVIDIA GeForce MX150, pci bus id: 0000:01:00.0, compute capability: 6.1\n"
          ]
        }
      ],
      "source": [
        "#model.load_weights('sohrab.weights.h5')\n",
        "loaded_model = tf.keras.models.load_model('sohrab.keras')"
      ]
    },
    {
      "cell_type": "code",
      "execution_count": 32,
      "metadata": {
        "colab": {
          "base_uri": "https://localhost:8080/"
        },
        "id": "jpPdEwVwuyPh",
        "outputId": "48583c2e-4c49-44b7-9905-e6c024063b25"
      },
      "outputs": [
        {
          "name": "stdout",
          "output_type": "stream",
          "text": [
            "در فرودست انگار است هیچ تمام سکوت کودک تو روی پوستها کرد آید\n"
          ]
        }
      ],
      "source": [
        "SEQ_LEN = 10\n",
        "K = 10\n",
        "DECODING_METHODS = { \"greedy\": 0, \"sampling\": 1, \"top_k\": 2 }\n",
        "sentence = \"در فرودست انگار\"\n",
        "decoding_method = DECODING_METHODS['top_k']\n",
        "for i in range(SEQ_LEN):\n",
        "  s = tokenizer.texts_to_sequences([sentence])\n",
        "  s = pad_sequences(s, maxlen=max_len)\n",
        "  p = loaded_model.predict(s, verbose=0)\n",
        "  if decoding_method == DECODING_METHODS['greedy']:\n",
        "    idx = np.argmax(p[0])\n",
        "  elif decoding_method == DECODING_METHODS['sampling']:\n",
        "    idx = np.random.choice(range(1, len(vocab)+1), 1, p=p[0])\n",
        "  elif decoding_method == DECODING_METHODS['top_k']:\n",
        "    v = list(zip(range(1, len(vocab)+1), p[0]))\n",
        "    v = np.array(sorted(v, key=lambda i: i[1], reverse=True)[:K])\n",
        "    idx = np.random.choice(v[:,0], 1, p=softmax(v[:,1]))\n",
        "  sentence +=  \" \" + [w for w in vocab if vocab[w]==idx][0]\n",
        "print(sentence)"
      ]
    }
  ],
  "metadata": {
    "accelerator": "GPU",
    "colab": {
      "gpuType": "T4",
      "provenance": []
    },
    "kernelspec": {
      "display_name": "Python 3",
      "name": "python3"
    },
    "language_info": {
      "codemirror_mode": {
        "name": "ipython",
        "version": 3
      },
      "file_extension": ".py",
      "mimetype": "text/x-python",
      "name": "python",
      "nbconvert_exporter": "python",
      "pygments_lexer": "ipython3",
      "version": "3.12.5"
    }
  },
  "nbformat": 4,
  "nbformat_minor": 0
}
